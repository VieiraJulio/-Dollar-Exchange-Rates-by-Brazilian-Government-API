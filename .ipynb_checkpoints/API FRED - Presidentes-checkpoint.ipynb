{
 "cells": [
  {
   "cell_type": "markdown",
   "id": "712ac641-82ab-4f1f-9b2e-de8208999d44",
   "metadata": {},
   "source": [
    "## API- Cotações Cambiais\n",
    "\n",
    "Fonte: https://fred.stlouisfed.org/\n",
    "\n",
    "Precisamos de uma key para consumir a API. Para isso, é necessário criar uma conta no site e gerar uma key. \n",
    "A key é um código que identifica o usuário e permite o acesso à API. Este é um cenário muito comum, pois muitas APIs são pagas e precisam de uma key para serem consumidas. Neste caso, a API é gratuita e a key é gerada automaticamente.\n",
    "\n",
    ">  \"This product uses the FRED® API but is not endorsed or certified by the Federal Reserve Bank of St. Louis.\""
   ]
  },
  {
   "cell_type": "code",
   "execution_count": 3,
   "id": "586cd423-8d53-4b68-a503-b42e3412281f",
   "metadata": {},
   "outputs": [],
   "source": [
    "#!pip install python-dotenv"
   ]
  },
  {
   "cell_type": "code",
   "execution_count": 4,
   "id": "a7773eaf-71f2-46e3-862a-56a9917e6980",
   "metadata": {},
   "outputs": [],
   "source": [
    "#Importação dos módulos\n",
    "\n",
    "from dotenv import load_dotenv\n",
    "import os\n",
    "from pprint import pprint\n",
    "import requests"
   ]
  },
  {
   "cell_type": "code",
   "execution_count": 5,
   "id": "0579ec7c-4fef-4d42-8a44-cb55c8d0fdb9",
   "metadata": {},
   "outputs": [],
   "source": [
    "# token\n",
    "load_dotenv()\n",
    "\n",
    "key = os.getenv(\"FRED_API_KEY\")"
   ]
  },
  {
   "cell_type": "code",
   "execution_count": 6,
   "id": "a69f5cf8-8405-4162-b5e3-313df7a3da43",
   "metadata": {},
   "outputs": [],
   "source": [
    "# Criação de variáveis para conectar a API\n",
    "\n",
    "BUSCA_BR = \"brazil\"\n",
    "\n",
    "URL_BRASIL_BUSCA = f\"https://api.stlouisfed.org/fred/series/search?search_text={BUSCA_BR}&api_key={key}&file_type=json\"\n",
    "\n",
    "respostas_br_url = requests.get(URL_BRASIL_BUSCA)"
   ]
  },
  {
   "cell_type": "code",
   "execution_count": 7,
   "id": "d186161b-e8dd-46f7-9888-f98e1c416f30",
   "metadata": {},
   "outputs": [
    {
     "data": {
      "text/plain": [
       "200"
      ]
     },
     "execution_count": 7,
     "metadata": {},
     "output_type": "execute_result"
    }
   ],
   "source": [
    "# Verificação do status code\n",
    "\n",
    "respostas_br_url.status_code"
   ]
  },
  {
   "cell_type": "code",
   "execution_count": 8,
   "id": "4d7dc087-45be-47d4-b5aa-8ac41e4052fe",
   "metadata": {},
   "outputs": [
    {
     "data": {
      "text/plain": [
       "'application/json; charset=UTF-8'"
      ]
     },
     "execution_count": 8,
     "metadata": {},
     "output_type": "execute_result"
    }
   ],
   "source": [
    "# Verificação do conteúdo\n",
    "\n",
    "respostas_br_url.headers['Content-Type']"
   ]
  },
  {
   "cell_type": "code",
   "execution_count": 9,
   "id": "3ed75fca-22d9-4863-9ad6-4f120e715e4f",
   "metadata": {},
   "outputs": [
    {
     "name": "stdout",
     "output_type": "stream",
     "text": [
      "{'frequency': 'Monthly',\n",
      " 'frequency_short': 'M',\n",
      " 'group_popularity': 49,\n",
      " 'id': 'CPALTT01BRM659N',\n",
      " 'last_updated': '2024-12-16 13:58:04-06',\n",
      " 'notes': 'OECD Data Filters: \\n'\n",
      "          'REF_AREA: BRA\\n'\n",
      "          'MEASURE: CPI\\n'\n",
      "          'UNIT_MEASURE: PA\\n'\n",
      "          'METHODOLOGY: N\\n'\n",
      "          'EXPENDITURE: _T\\n'\n",
      "          'ADJUSTMENT: N\\n'\n",
      "          'TRANSFORMATION: GY\\n'\n",
      "          'FREQ: M\\n'\n",
      "          '\\n'\n",
      "          'All OECD data should be cited as follows: OECD (year), (dataset '\n",
      "          'name), (data source) DOI or https://data-explorer.oecd.org/ '\n",
      "          '(https://data-explorer.oecd.org/). (accessed on (date)).',\n",
      " 'observation_end': '2024-11-01',\n",
      " 'observation_start': '1980-12-01',\n",
      " 'popularity': 39,\n",
      " 'realtime_end': '2024-12-30',\n",
      " 'realtime_start': '2024-12-30',\n",
      " 'seasonal_adjustment': 'Not Seasonally Adjusted',\n",
      " 'seasonal_adjustment_short': 'NSA',\n",
      " 'title': 'Consumer Price Indices (CPIs, HICPs), COICOP 1999: Consumer Price '\n",
      "          'Index: Total for Brazil',\n",
      " 'units': 'Growth rate same period previous year',\n",
      " 'units_short': 'Growth rate same period previous Yr.'}\n"
     ]
    }
   ],
   "source": [
    "#Conhecendo os dados\n",
    "\n",
    "respostas_br = respostas_br_url.json()\n",
    "\n",
    "pprint(respostas_br['seriess'][0])"
   ]
  },
  {
   "cell_type": "code",
   "execution_count": 10,
   "id": "96321369-3af5-4c7f-a099-566b54870a40",
   "metadata": {},
   "outputs": [
    {
     "data": {
      "text/plain": [
       "{'realtime_start': '2024-12-30',\n",
       " 'realtime_end': '2024-12-30',\n",
       " 'order_by': 'search_rank',\n",
       " 'sort_order': 'desc',\n",
       " 'count': 1198,\n",
       " 'offset': 0,\n",
       " 'limit': 5,\n",
       " 'seriess': [{'id': 'CPALTT01BRM659N',\n",
       "   'realtime_start': '2024-12-30',\n",
       "   'realtime_end': '2024-12-30',\n",
       "   'title': 'Consumer Price Indices (CPIs, HICPs), COICOP 1999: Consumer Price Index: Total for Brazil',\n",
       "   'observation_start': '1980-12-01',\n",
       "   'observation_end': '2024-11-01',\n",
       "   'frequency': 'Monthly',\n",
       "   'frequency_short': 'M',\n",
       "   'units': 'Growth rate same period previous year',\n",
       "   'units_short': 'Growth rate same period previous Yr.',\n",
       "   'seasonal_adjustment': 'Not Seasonally Adjusted',\n",
       "   'seasonal_adjustment_short': 'NSA',\n",
       "   'last_updated': '2024-12-16 13:58:04-06',\n",
       "   'popularity': 39,\n",
       "   'group_popularity': 49,\n",
       "   'notes': 'OECD Data Filters: \\nREF_AREA: BRA\\nMEASURE: CPI\\nUNIT_MEASURE: PA\\nMETHODOLOGY: N\\nEXPENDITURE: _T\\nADJUSTMENT: N\\nTRANSFORMATION: GY\\nFREQ: M\\n\\nAll OECD data should be cited as follows: OECD (year), (dataset name), (data source) DOI or https://data-explorer.oecd.org/ (https://data-explorer.oecd.org/). (accessed on (date)).'},\n",
       "  {'id': 'BRACPIALLMINMEI',\n",
       "   'realtime_start': '2024-12-30',\n",
       "   'realtime_end': '2024-12-30',\n",
       "   'title': 'Consumer Price Indices (CPIs, HICPs), COICOP 1999: Consumer Price Index: Total for Brazil',\n",
       "   'observation_start': '1979-12-01',\n",
       "   'observation_end': '2024-11-01',\n",
       "   'frequency': 'Monthly',\n",
       "   'frequency_short': 'M',\n",
       "   'units': 'Index 2015=100',\n",
       "   'units_short': 'Index 2015=100',\n",
       "   'seasonal_adjustment': 'Not Seasonally Adjusted',\n",
       "   'seasonal_adjustment_short': 'NSA',\n",
       "   'last_updated': '2024-12-16 13:58:04-06',\n",
       "   'popularity': 22,\n",
       "   'group_popularity': 49,\n",
       "   'notes': 'OECD Data Filters: \\nREF_AREA: BRA\\nMEASURE: CPI\\nUNIT_MEASURE: IX\\nMETHODOLOGY: N\\nEXPENDITURE: _T\\nADJUSTMENT: N\\nTRANSFORMATION: _Z\\nFREQ: M\\n\\nAll OECD data should be cited as follows: OECD (year), (dataset name), (data source) DOI or https://data-explorer.oecd.org/ (https://data-explorer.oecd.org/). (accessed on (date)).'},\n",
       "  {'id': 'BRACPIALLAINMEI',\n",
       "   'realtime_start': '2024-12-30',\n",
       "   'realtime_end': '2024-12-30',\n",
       "   'title': 'Consumer Price Indices (CPIs, HICPs), COICOP 1999: Consumer Price Index: Total for Brazil',\n",
       "   'observation_start': '1980-01-01',\n",
       "   'observation_end': '2023-01-01',\n",
       "   'frequency': 'Annual',\n",
       "   'frequency_short': 'A',\n",
       "   'units': 'Index 2015=100',\n",
       "   'units_short': 'Index 2015=100',\n",
       "   'seasonal_adjustment': 'Not Seasonally Adjusted',\n",
       "   'seasonal_adjustment_short': 'NSA',\n",
       "   'last_updated': '2024-05-15 14:02:08-05',\n",
       "   'popularity': 13,\n",
       "   'group_popularity': 49,\n",
       "   'notes': 'OECD Data Filters: \\nREF_AREA: BRA\\nMEASURE: CPI\\nUNIT_MEASURE: IX\\nMETHODOLOGY: N\\nEXPENDITURE: _T\\nADJUSTMENT: N\\nTRANSFORMATION: _Z\\nFREQ: A\\n\\nAll OECD data should be cited as follows: OECD (year), (dataset name), (data source) DOI or https://data-explorer.oecd.org/ (https://data-explorer.oecd.org/). (accessed on (date)).'},\n",
       "  {'id': 'BRACPALTT01IXNBM',\n",
       "   'realtime_start': '2024-12-30',\n",
       "   'realtime_end': '2024-12-30',\n",
       "   'title': 'Consumer Price Index: All Items: Total for Brazil',\n",
       "   'observation_start': '1979-12-01',\n",
       "   'observation_end': '2023-11-01',\n",
       "   'frequency': 'Monthly',\n",
       "   'frequency_short': 'M',\n",
       "   'units': 'Index source base',\n",
       "   'units_short': 'Index source base',\n",
       "   'seasonal_adjustment': 'Not Seasonally Adjusted',\n",
       "   'seasonal_adjustment_short': 'NSA',\n",
       "   'last_updated': '2024-01-12 14:27:11-06',\n",
       "   'popularity': 8,\n",
       "   'group_popularity': 49,\n",
       "   'notes': 'OECD Descriptor ID: CPALTT01\\nOECD unit ID: IDX\\nOECD country ID: BRA\\n\\nAll OECD data should be cited as follows: OECD, \"Main Economic Indicators - complete database\", Main Economic Indicators (database), https://dx.doi.org/10.1787/data-00052-en (Accessed on date) Copyright, 2016, OECD. Reprinted with permission'},\n",
       "  {'id': 'NGDPRSAXDCBRQ',\n",
       "   'realtime_start': '2024-12-30',\n",
       "   'realtime_end': '2024-12-30',\n",
       "   'title': 'Real Gross Domestic Product for Brazil',\n",
       "   'observation_start': '1996-01-01',\n",
       "   'observation_end': '2024-04-01',\n",
       "   'frequency': 'Quarterly',\n",
       "   'frequency_short': 'Q',\n",
       "   'units': 'Millions of Domestic Currency',\n",
       "   'units_short': 'Mil. of Domestic Currency',\n",
       "   'seasonal_adjustment': 'Seasonally Adjusted',\n",
       "   'seasonal_adjustment_short': 'SA',\n",
       "   'last_updated': '2024-11-04 08:37:03-06',\n",
       "   'popularity': 46,\n",
       "   'group_popularity': 47}]}"
      ]
     },
     "execution_count": 10,
     "metadata": {},
     "output_type": "execute_result"
    }
   ],
   "source": [
    "# limitando a 5 resultados\n",
    "\n",
    "LIMITE = 5\n",
    "\n",
    "URL_BRASIL_BUSCA_LIMITE = \"\".join([URL_BRASIL_BUSCA, f\"&limit={LIMITE}\"])\n",
    "\n",
    "requests.get(URL_BRASIL_BUSCA_LIMITE).json()"
   ]
  },
  {
   "cell_type": "code",
   "execution_count": 11,
   "id": "5316ca18-4601-4630-8460-a6635846dba4",
   "metadata": {},
   "outputs": [
    {
     "data": {
      "text/plain": [
       "{'realtime_start': '2024-12-30',\n",
       " 'realtime_end': '2024-12-30',\n",
       " 'order_by': 'search_rank',\n",
       " 'sort_order': 'desc',\n",
       " 'count': 1198,\n",
       " 'offset': 5,\n",
       " 'limit': 5,\n",
       " 'seriess': [{'id': 'CPALTT01BRM657N',\n",
       "   'realtime_start': '2024-12-30',\n",
       "   'realtime_end': '2024-12-30',\n",
       "   'title': 'Consumer Price Index: All Items: Total for Brazil',\n",
       "   'observation_start': '1980-01-01',\n",
       "   'observation_end': '2024-03-01',\n",
       "   'frequency': 'Monthly',\n",
       "   'frequency_short': 'M',\n",
       "   'units': 'Growth rate previous period',\n",
       "   'units_short': 'Growth rate previous period',\n",
       "   'seasonal_adjustment': 'Not Seasonally Adjusted',\n",
       "   'seasonal_adjustment_short': 'NSA',\n",
       "   'last_updated': '2024-04-15 13:51:04-05',\n",
       "   'popularity': 7,\n",
       "   'group_popularity': 49,\n",
       "   'notes': 'OECD Descriptor ID: CPALTT01\\nOECD unit ID: PC\\nOECD country ID: BRA\\n\\nAll OECD data should be cited as follows: OECD, \"Main Economic Indicators - complete database\", Main Economic Indicators (database), https://dx.doi.org/10.1787/data-00052-en (Accessed on date) Copyright, 2016, OECD. Reprinted with permission'},\n",
       "  {'id': 'CPALTT01BRQ657N',\n",
       "   'realtime_start': '2024-12-30',\n",
       "   'realtime_end': '2024-12-30',\n",
       "   'title': 'Consumer Price Index: All Items: Total for Brazil',\n",
       "   'observation_start': '1980-04-01',\n",
       "   'observation_end': '2024-01-01',\n",
       "   'frequency': 'Quarterly',\n",
       "   'frequency_short': 'Q',\n",
       "   'units': 'Growth rate previous period',\n",
       "   'units_short': 'Growth rate previous period',\n",
       "   'seasonal_adjustment': 'Not Seasonally Adjusted',\n",
       "   'seasonal_adjustment_short': 'NSA',\n",
       "   'last_updated': '2024-04-15 13:52:01-05',\n",
       "   'popularity': 6,\n",
       "   'group_popularity': 49,\n",
       "   'notes': 'OECD Descriptor ID: CPALTT01\\nOECD unit ID: PC\\nOECD country ID: BRA\\n\\nAll OECD data should be cited as follows: OECD, \"Main Economic Indicators - complete database\", Main Economic Indicators (database), https://dx.doi.org/10.1787/data-00052-en (Accessed on date) Copyright, 2016, OECD. Reprinted with permission'},\n",
       "  {'id': 'BRACPIALLQINMEI',\n",
       "   'realtime_start': '2024-12-30',\n",
       "   'realtime_end': '2024-12-30',\n",
       "   'title': 'Consumer Price Indices (CPIs, HICPs), COICOP 1999: Consumer Price Index: Total for Brazil',\n",
       "   'observation_start': '1980-01-01',\n",
       "   'observation_end': '2024-07-01',\n",
       "   'frequency': 'Quarterly',\n",
       "   'frequency_short': 'Q',\n",
       "   'units': 'Index 2015=100',\n",
       "   'units_short': 'Index 2015=100',\n",
       "   'seasonal_adjustment': 'Not Seasonally Adjusted',\n",
       "   'seasonal_adjustment_short': 'NSA',\n",
       "   'last_updated': '2024-10-15 14:03:06-05',\n",
       "   'popularity': 5,\n",
       "   'group_popularity': 49,\n",
       "   'notes': 'OECD Data Filters: \\nREF_AREA: BRA\\nMEASURE: CPI\\nUNIT_MEASURE: IX\\nMETHODOLOGY: N\\nEXPENDITURE: _T\\nADJUSTMENT: N\\nTRANSFORMATION: _Z\\nFREQ: Q\\n\\nAll OECD data should be cited as follows: OECD (year), (dataset name), (data source) DOI or https://data-explorer.oecd.org/ (https://data-explorer.oecd.org/). (accessed on (date)).'},\n",
       "  {'id': 'CPALTT01BRQ659N',\n",
       "   'realtime_start': '2024-12-30',\n",
       "   'realtime_end': '2024-12-30',\n",
       "   'title': 'Consumer Price Indices (CPIs, HICPs), COICOP 1999: Consumer Price Index: Total for Brazil',\n",
       "   'observation_start': '1981-01-01',\n",
       "   'observation_end': '2024-07-01',\n",
       "   'frequency': 'Quarterly',\n",
       "   'frequency_short': 'Q',\n",
       "   'units': 'Growth rate same period previous year',\n",
       "   'units_short': 'Growth rate same period previous Yr.',\n",
       "   'seasonal_adjustment': 'Not Seasonally Adjusted',\n",
       "   'seasonal_adjustment_short': 'NSA',\n",
       "   'last_updated': '2024-10-15 14:03:03-05',\n",
       "   'popularity': 5,\n",
       "   'group_popularity': 49,\n",
       "   'notes': 'OECD Data Filters: \\nREF_AREA: BRA\\nMEASURE: CPI\\nUNIT_MEASURE: PA\\nMETHODOLOGY: N\\nEXPENDITURE: _T\\nADJUSTMENT: N\\nTRANSFORMATION: GY\\nFREQ: Q\\n\\nAll OECD data should be cited as follows: OECD (year), (dataset name), (data source) DOI or https://data-explorer.oecd.org/ (https://data-explorer.oecd.org/). (accessed on (date)).'},\n",
       "  {'id': 'CPALTT01BRA657N',\n",
       "   'realtime_start': '2024-12-30',\n",
       "   'realtime_end': '2024-12-30',\n",
       "   'title': 'Consumer Price Index: All Items: Total for Brazil',\n",
       "   'observation_start': '1981-01-01',\n",
       "   'observation_end': '2023-01-01',\n",
       "   'frequency': 'Annual',\n",
       "   'frequency_short': 'A',\n",
       "   'units': 'Growth rate previous period',\n",
       "   'units_short': 'Growth rate previous period',\n",
       "   'seasonal_adjustment': 'Not Seasonally Adjusted',\n",
       "   'seasonal_adjustment_short': 'NSA',\n",
       "   'last_updated': '2024-04-10 11:32:15-05',\n",
       "   'popularity': 3,\n",
       "   'group_popularity': 49,\n",
       "   'notes': 'OECD Descriptor ID: CPALTT01\\nOECD unit ID: PC\\nOECD country ID: BRA\\n\\nAll OECD data should be cited as follows: OECD, \"Main Economic Indicators - complete database\", Main Economic Indicators (database), https://dx.doi.org/10.1787/data-00052-en (Accessed on date) Copyright, 2016, OECD. Reprinted with permission'}]}"
      ]
     },
     "execution_count": 11,
     "metadata": {},
     "output_type": "execute_result"
    }
   ],
   "source": [
    "# limitando a 5 resultados, mas com offset\n",
    "\n",
    "OFFSET = 5\n",
    "\n",
    "URL_BRASIL_BUSCA_LIMITE_OFFSET = \"\".join([URL_BRASIL_BUSCA_LIMITE, f\"&offset={OFFSET}\"])\n",
    "\n",
    "requests.get(URL_BRASIL_BUSCA_LIMITE_OFFSET).json()\n"
   ]
  },
  {
   "cell_type": "markdown",
   "id": "bad39f03-48d3-4577-8af5-1954c1364e21",
   "metadata": {},
   "source": [
    "## Data Frame"
   ]
  },
  {
   "cell_type": "code",
   "execution_count": 13,
   "id": "cd5074fb-704a-4f4a-9343-7804c15e0283",
   "metadata": {},
   "outputs": [
    {
     "data": {
      "text/html": [
       "<div>\n",
       "<style scoped>\n",
       "    .dataframe tbody tr th:only-of-type {\n",
       "        vertical-align: middle;\n",
       "    }\n",
       "\n",
       "    .dataframe tbody tr th {\n",
       "        vertical-align: top;\n",
       "    }\n",
       "\n",
       "    .dataframe thead th {\n",
       "        text-align: right;\n",
       "    }\n",
       "</style>\n",
       "<table border=\"1\" class=\"dataframe\">\n",
       "  <thead>\n",
       "    <tr style=\"text-align: right;\">\n",
       "      <th></th>\n",
       "      <th>id</th>\n",
       "      <th>realtime_start</th>\n",
       "      <th>realtime_end</th>\n",
       "      <th>title</th>\n",
       "      <th>observation_start</th>\n",
       "      <th>observation_end</th>\n",
       "      <th>frequency</th>\n",
       "      <th>frequency_short</th>\n",
       "      <th>units</th>\n",
       "      <th>units_short</th>\n",
       "      <th>seasonal_adjustment</th>\n",
       "      <th>seasonal_adjustment_short</th>\n",
       "      <th>last_updated</th>\n",
       "      <th>popularity</th>\n",
       "      <th>group_popularity</th>\n",
       "      <th>notes</th>\n",
       "    </tr>\n",
       "  </thead>\n",
       "  <tbody>\n",
       "    <tr>\n",
       "      <th>14</th>\n",
       "      <td>DEXBZUS</td>\n",
       "      <td>2024-12-30</td>\n",
       "      <td>2024-12-30</td>\n",
       "      <td>Brazilian Reals to U.S. Dollar Spot Exchange Rate</td>\n",
       "      <td>1995-01-02</td>\n",
       "      <td>2024-12-20</td>\n",
       "      <td>Daily</td>\n",
       "      <td>D</td>\n",
       "      <td>Brazilian Reals to One U.S. Dollar</td>\n",
       "      <td>Brazilian Reals to  1 U.S. $</td>\n",
       "      <td>Not Seasonally Adjusted</td>\n",
       "      <td>NSA</td>\n",
       "      <td>2024-12-23 15:21:42-06</td>\n",
       "      <td>48</td>\n",
       "      <td>53</td>\n",
       "      <td>Noon buying rates in New York City for cable t...</td>\n",
       "    </tr>\n",
       "    <tr>\n",
       "      <th>15</th>\n",
       "      <td>EXBZUS</td>\n",
       "      <td>2024-12-30</td>\n",
       "      <td>2024-12-30</td>\n",
       "      <td>Brazilian Reals to U.S. Dollar Spot Exchange Rate</td>\n",
       "      <td>1995-01-01</td>\n",
       "      <td>2024-11-01</td>\n",
       "      <td>Monthly</td>\n",
       "      <td>M</td>\n",
       "      <td>Brazilian Reals to One U.S. Dollar</td>\n",
       "      <td>Brazilian Reals to  1 U.S. $</td>\n",
       "      <td>Not Seasonally Adjusted</td>\n",
       "      <td>NSA</td>\n",
       "      <td>2024-12-02 15:18:32-06</td>\n",
       "      <td>36</td>\n",
       "      <td>53</td>\n",
       "      <td>Averages of daily figures. Noon buying rates i...</td>\n",
       "    </tr>\n",
       "    <tr>\n",
       "      <th>17</th>\n",
       "      <td>AEXBZUS</td>\n",
       "      <td>2024-12-30</td>\n",
       "      <td>2024-12-30</td>\n",
       "      <td>Brazilian Reals to U.S. Dollar Spot Exchange Rate</td>\n",
       "      <td>1995-01-01</td>\n",
       "      <td>2023-01-01</td>\n",
       "      <td>Annual</td>\n",
       "      <td>A</td>\n",
       "      <td>Brazilian Reals to One U.S. Dollar</td>\n",
       "      <td>Brazilian Reals to  1 U.S. $</td>\n",
       "      <td>Not Seasonally Adjusted</td>\n",
       "      <td>NSA</td>\n",
       "      <td>2024-01-03 13:18:04-06</td>\n",
       "      <td>11</td>\n",
       "      <td>53</td>\n",
       "      <td>Averages of daily figures. Noon buying rates i...</td>\n",
       "    </tr>\n",
       "    <tr>\n",
       "      <th>117</th>\n",
       "      <td>CCUSMA02BRM618N</td>\n",
       "      <td>2024-12-30</td>\n",
       "      <td>2024-12-30</td>\n",
       "      <td>Currency Conversions: US Dollar Exchange Rate:...</td>\n",
       "      <td>1957-01-01</td>\n",
       "      <td>2024-10-01</td>\n",
       "      <td>Monthly</td>\n",
       "      <td>M</td>\n",
       "      <td>Brazilian Real</td>\n",
       "      <td>Brazilian Real</td>\n",
       "      <td>Not Seasonally Adjusted</td>\n",
       "      <td>NSA</td>\n",
       "      <td>2024-12-16 14:07:08-06</td>\n",
       "      <td>9</td>\n",
       "      <td>10</td>\n",
       "      <td>OECD Data Filters: \\nREF_AREA: BRA\\nMEASURE: C...</td>\n",
       "    </tr>\n",
       "    <tr>\n",
       "      <th>122</th>\n",
       "      <td>CCUSMA02BRQ618N</td>\n",
       "      <td>2024-12-30</td>\n",
       "      <td>2024-12-30</td>\n",
       "      <td>Currency Conversions: US Dollar Exchange Rate:...</td>\n",
       "      <td>1957-01-01</td>\n",
       "      <td>2024-07-01</td>\n",
       "      <td>Quarterly</td>\n",
       "      <td>Q</td>\n",
       "      <td>Brazilian Real</td>\n",
       "      <td>Brazilian Real</td>\n",
       "      <td>Not Seasonally Adjusted</td>\n",
       "      <td>NSA</td>\n",
       "      <td>2024-11-15 14:04:11-06</td>\n",
       "      <td>3</td>\n",
       "      <td>10</td>\n",
       "      <td>OECD Data Filters: \\nREF_AREA: BRA\\nMEASURE: C...</td>\n",
       "    </tr>\n",
       "  </tbody>\n",
       "</table>\n",
       "</div>"
      ],
      "text/plain": [
       "                  id realtime_start realtime_end  \\\n",
       "14           DEXBZUS     2024-12-30   2024-12-30   \n",
       "15            EXBZUS     2024-12-30   2024-12-30   \n",
       "17           AEXBZUS     2024-12-30   2024-12-30   \n",
       "117  CCUSMA02BRM618N     2024-12-30   2024-12-30   \n",
       "122  CCUSMA02BRQ618N     2024-12-30   2024-12-30   \n",
       "\n",
       "                                                 title observation_start  \\\n",
       "14   Brazilian Reals to U.S. Dollar Spot Exchange Rate        1995-01-02   \n",
       "15   Brazilian Reals to U.S. Dollar Spot Exchange Rate        1995-01-01   \n",
       "17   Brazilian Reals to U.S. Dollar Spot Exchange Rate        1995-01-01   \n",
       "117  Currency Conversions: US Dollar Exchange Rate:...        1957-01-01   \n",
       "122  Currency Conversions: US Dollar Exchange Rate:...        1957-01-01   \n",
       "\n",
       "    observation_end  frequency frequency_short  \\\n",
       "14       2024-12-20      Daily               D   \n",
       "15       2024-11-01    Monthly               M   \n",
       "17       2023-01-01     Annual               A   \n",
       "117      2024-10-01    Monthly               M   \n",
       "122      2024-07-01  Quarterly               Q   \n",
       "\n",
       "                                  units                   units_short  \\\n",
       "14   Brazilian Reals to One U.S. Dollar  Brazilian Reals to  1 U.S. $   \n",
       "15   Brazilian Reals to One U.S. Dollar  Brazilian Reals to  1 U.S. $   \n",
       "17   Brazilian Reals to One U.S. Dollar  Brazilian Reals to  1 U.S. $   \n",
       "117                      Brazilian Real                Brazilian Real   \n",
       "122                      Brazilian Real                Brazilian Real   \n",
       "\n",
       "         seasonal_adjustment seasonal_adjustment_short  \\\n",
       "14   Not Seasonally Adjusted                       NSA   \n",
       "15   Not Seasonally Adjusted                       NSA   \n",
       "17   Not Seasonally Adjusted                       NSA   \n",
       "117  Not Seasonally Adjusted                       NSA   \n",
       "122  Not Seasonally Adjusted                       NSA   \n",
       "\n",
       "               last_updated  popularity  group_popularity  \\\n",
       "14   2024-12-23 15:21:42-06          48                53   \n",
       "15   2024-12-02 15:18:32-06          36                53   \n",
       "17   2024-01-03 13:18:04-06          11                53   \n",
       "117  2024-12-16 14:07:08-06           9                10   \n",
       "122  2024-11-15 14:04:11-06           3                10   \n",
       "\n",
       "                                                 notes  \n",
       "14   Noon buying rates in New York City for cable t...  \n",
       "15   Averages of daily figures. Noon buying rates i...  \n",
       "17   Averages of daily figures. Noon buying rates i...  \n",
       "117  OECD Data Filters: \\nREF_AREA: BRA\\nMEASURE: C...  \n",
       "122  OECD Data Filters: \\nREF_AREA: BRA\\nMEASURE: C...  "
      ]
     },
     "execution_count": 13,
     "metadata": {},
     "output_type": "execute_result"
    }
   ],
   "source": [
    "import pandas as pd\n",
    "\n",
    "df = pd.DataFrame(respostas_br_url.json()['seriess'])\n",
    "\n",
    "\n",
    "# filtrando Dólar\n",
    "\n",
    "df_dolar = df[df['title'].str.contains('dollar', case = False)]\n",
    "\n",
    "df_dolar.head()"
   ]
  },
  {
   "cell_type": "code",
   "execution_count": 14,
   "id": "45809834-9bfd-4133-8171-15c2eef64b2f",
   "metadata": {},
   "outputs": [
    {
     "name": "stdout",
     "output_type": "stream",
     "text": [
      "<class 'pandas.core.frame.DataFrame'>\n",
      "Index: 11 entries, 14 to 658\n",
      "Data columns (total 16 columns):\n",
      " #   Column                     Non-Null Count  Dtype \n",
      "---  ------                     --------------  ----- \n",
      " 0   id                         11 non-null     object\n",
      " 1   realtime_start             11 non-null     object\n",
      " 2   realtime_end               11 non-null     object\n",
      " 3   title                      11 non-null     object\n",
      " 4   observation_start          11 non-null     object\n",
      " 5   observation_end            11 non-null     object\n",
      " 6   frequency                  11 non-null     object\n",
      " 7   frequency_short            11 non-null     object\n",
      " 8   units                      11 non-null     object\n",
      " 9   units_short                11 non-null     object\n",
      " 10  seasonal_adjustment        11 non-null     object\n",
      " 11  seasonal_adjustment_short  11 non-null     object\n",
      " 12  last_updated               11 non-null     object\n",
      " 13  popularity                 11 non-null     int64 \n",
      " 14  group_popularity           11 non-null     int64 \n",
      " 15  notes                      11 non-null     object\n",
      "dtypes: int64(2), object(14)\n",
      "memory usage: 1.5+ KB\n"
     ]
    }
   ],
   "source": [
    "df_dolar.info()"
   ]
  },
  {
   "cell_type": "code",
   "execution_count": 15,
   "id": "e40a8db4-b324-413f-8978-83f54ecf0187",
   "metadata": {},
   "outputs": [
    {
     "data": {
      "text/plain": [
       "(11, 16)"
      ]
     },
     "execution_count": 15,
     "metadata": {},
     "output_type": "execute_result"
    }
   ],
   "source": [
    "df_dolar.shape"
   ]
  },
  {
   "cell_type": "code",
   "execution_count": 16,
   "id": "4fde91a6-69f2-4a5a-80c2-6fc7fd8e430d",
   "metadata": {},
   "outputs": [],
   "source": [
    "SERIE_DOLLAR = 'DEXBZUS'\n",
    "\n",
    "URL_SERIE_DOLAR = f\"https://api.stlouisfed.org/fred/series/observations?series_id={SERIE_DOLLAR}&api_key={key}&file_type=json\"\n",
    "\n",
    "resposta_dolar  = requests.get(URL_SERIE_DOLAR)"
   ]
  },
  {
   "cell_type": "code",
   "execution_count": 17,
   "id": "9caf4e8f-78d3-47da-91af-5eb1a95fa851",
   "metadata": {},
   "outputs": [
    {
     "data": {
      "text/html": [
       "<div>\n",
       "<style scoped>\n",
       "    .dataframe tbody tr th:only-of-type {\n",
       "        vertical-align: middle;\n",
       "    }\n",
       "\n",
       "    .dataframe tbody tr th {\n",
       "        vertical-align: top;\n",
       "    }\n",
       "\n",
       "    .dataframe thead th {\n",
       "        text-align: right;\n",
       "    }\n",
       "</style>\n",
       "<table border=\"1\" class=\"dataframe\">\n",
       "  <thead>\n",
       "    <tr style=\"text-align: right;\">\n",
       "      <th></th>\n",
       "      <th>realtime_start</th>\n",
       "      <th>realtime_end</th>\n",
       "      <th>date</th>\n",
       "      <th>value</th>\n",
       "    </tr>\n",
       "  </thead>\n",
       "  <tbody>\n",
       "    <tr>\n",
       "      <th>0</th>\n",
       "      <td>2024-12-24</td>\n",
       "      <td>2024-12-24</td>\n",
       "      <td>1995-01-02</td>\n",
       "      <td>0.8440</td>\n",
       "    </tr>\n",
       "    <tr>\n",
       "      <th>1</th>\n",
       "      <td>2024-12-24</td>\n",
       "      <td>2024-12-24</td>\n",
       "      <td>1995-01-03</td>\n",
       "      <td>0.8450</td>\n",
       "    </tr>\n",
       "    <tr>\n",
       "      <th>2</th>\n",
       "      <td>2024-12-24</td>\n",
       "      <td>2024-12-24</td>\n",
       "      <td>1995-01-04</td>\n",
       "      <td>0.8450</td>\n",
       "    </tr>\n",
       "    <tr>\n",
       "      <th>3</th>\n",
       "      <td>2024-12-24</td>\n",
       "      <td>2024-12-24</td>\n",
       "      <td>1995-01-05</td>\n",
       "      <td>0.8430</td>\n",
       "    </tr>\n",
       "    <tr>\n",
       "      <th>4</th>\n",
       "      <td>2024-12-24</td>\n",
       "      <td>2024-12-24</td>\n",
       "      <td>1995-01-06</td>\n",
       "      <td>0.8400</td>\n",
       "    </tr>\n",
       "  </tbody>\n",
       "</table>\n",
       "</div>"
      ],
      "text/plain": [
       "  realtime_start realtime_end        date   value\n",
       "0     2024-12-24   2024-12-24  1995-01-02  0.8440\n",
       "1     2024-12-24   2024-12-24  1995-01-03  0.8450\n",
       "2     2024-12-24   2024-12-24  1995-01-04  0.8450\n",
       "3     2024-12-24   2024-12-24  1995-01-05  0.8430\n",
       "4     2024-12-24   2024-12-24  1995-01-06  0.8400"
      ]
     },
     "execution_count": 17,
     "metadata": {},
     "output_type": "execute_result"
    }
   ],
   "source": [
    "df_dolar_final = pd. DataFrame(resposta_dolar.json()['observations'])\n",
    "\n",
    "df_dolar_final[:5]"
   ]
  },
  {
   "cell_type": "code",
   "execution_count": 18,
   "id": "46e1baf5-aa45-48f0-a4d9-591587893697",
   "metadata": {},
   "outputs": [],
   "source": [
    "# Tratamentos\n",
    "\n",
    "df_dolar_final = df_dolar_final.drop(columns= ['realtime_start','realtime_end'])\n",
    "df_dolar_final['date'] = pd.to_datetime(df_dolar_final['date'])"
   ]
  },
  {
   "cell_type": "code",
   "execution_count": 22,
   "id": "3d89b213-898e-4145-85cb-1f9a56d8eb00",
   "metadata": {},
   "outputs": [
    {
     "name": "stdout",
     "output_type": "stream",
     "text": [
      "<class 'pandas.core.frame.DataFrame'>\n",
      "RangeIndex: 7820 entries, 0 to 7819\n",
      "Data columns (total 2 columns):\n",
      " #   Column  Non-Null Count  Dtype         \n",
      "---  ------  --------------  -----         \n",
      " 0   date    7820 non-null   datetime64[ns]\n",
      " 1   value   7820 non-null   object        \n",
      "dtypes: datetime64[ns](1), object(1)\n",
      "memory usage: 122.3+ KB\n"
     ]
    }
   ],
   "source": [
    "df_dolar_final.info()"
   ]
  },
  {
   "cell_type": "code",
   "execution_count": 27,
   "id": "c9a3f139-1615-4c31-bb3e-379afdb4c6df",
   "metadata": {},
   "outputs": [
    {
     "data": {
      "text/plain": [
       "value\n",
       ".         302\n",
       "1.8050     14\n",
       "1.7700      8\n",
       "1.8000      8\n",
       "0.9190      7\n",
       "         ... \n",
       "2.3194      1\n",
       "2.2888      1\n",
       "2.2650      1\n",
       "2.1895      1\n",
       "6.0815      1\n",
       "Name: count, Length: 5866, dtype: int64"
      ]
     },
     "execution_count": 27,
     "metadata": {},
     "output_type": "execute_result"
    }
   ],
   "source": [
    "# Tratamendo do '.'\n",
    "\n",
    "df_dolar_final['value'].value_counts()"
   ]
  },
  {
   "cell_type": "code",
   "execution_count": 31,
   "id": "231ff481-1b97-44fc-8207-538e1baa7d1c",
   "metadata": {},
   "outputs": [],
   "source": [
    "df_dolar_final['value'] = df_dolar_final['value'].replace('.', float('NaN'))\n",
    "df_dolar_final['value'] = df_dolar_final['value'].astype(float)"
   ]
  },
  {
   "cell_type": "code",
   "execution_count": 37,
   "id": "67675f6c-0bbe-4ca3-bf4e-c6578335fef7",
   "metadata": {},
   "outputs": [
    {
     "name": "stdout",
     "output_type": "stream",
     "text": [
      "<class 'pandas.core.frame.DataFrame'>\n",
      "RangeIndex: 7820 entries, 0 to 7819\n",
      "Data columns (total 2 columns):\n",
      " #   Column  Non-Null Count  Dtype         \n",
      "---  ------  --------------  -----         \n",
      " 0   date    7820 non-null   datetime64[ns]\n",
      " 1   value   7518 non-null   float64       \n",
      "dtypes: datetime64[ns](1), float64(1)\n",
      "memory usage: 122.3 KB\n"
     ]
    }
   ],
   "source": [
    "df_dolar_final.info()"
   ]
  },
  {
   "cell_type": "code",
   "execution_count": 39,
   "id": "a6df5d60-49a2-4263-8652-00a68209c222",
   "metadata": {},
   "outputs": [],
   "source": [
    "df_dolar_final = df_dolar_final.set_index('date')"
   ]
  },
  {
   "cell_type": "code",
   "execution_count": 44,
   "id": "c92d31e7-68ab-4463-87bf-7f4fd7f39464",
   "metadata": {},
   "outputs": [
    {
     "data": {
      "text/html": [
       "<div>\n",
       "<style scoped>\n",
       "    .dataframe tbody tr th:only-of-type {\n",
       "        vertical-align: middle;\n",
       "    }\n",
       "\n",
       "    .dataframe tbody tr th {\n",
       "        vertical-align: top;\n",
       "    }\n",
       "\n",
       "    .dataframe thead th {\n",
       "        text-align: right;\n",
       "    }\n",
       "</style>\n",
       "<table border=\"1\" class=\"dataframe\">\n",
       "  <thead>\n",
       "    <tr style=\"text-align: right;\">\n",
       "      <th></th>\n",
       "      <th>value</th>\n",
       "    </tr>\n",
       "    <tr>\n",
       "      <th>date</th>\n",
       "      <th></th>\n",
       "    </tr>\n",
       "  </thead>\n",
       "  <tbody>\n",
       "    <tr>\n",
       "      <th>1995-01-02</th>\n",
       "      <td>0.844</td>\n",
       "    </tr>\n",
       "    <tr>\n",
       "      <th>1995-01-03</th>\n",
       "      <td>0.845</td>\n",
       "    </tr>\n",
       "    <tr>\n",
       "      <th>1995-01-04</th>\n",
       "      <td>0.845</td>\n",
       "    </tr>\n",
       "    <tr>\n",
       "      <th>1995-01-05</th>\n",
       "      <td>0.843</td>\n",
       "    </tr>\n",
       "    <tr>\n",
       "      <th>1995-01-06</th>\n",
       "      <td>0.840</td>\n",
       "    </tr>\n",
       "  </tbody>\n",
       "</table>\n",
       "</div>"
      ],
      "text/plain": [
       "            value\n",
       "date             \n",
       "1995-01-02  0.844\n",
       "1995-01-03  0.845\n",
       "1995-01-04  0.845\n",
       "1995-01-05  0.843\n",
       "1995-01-06  0.840"
      ]
     },
     "execution_count": 44,
     "metadata": {},
     "output_type": "execute_result"
    }
   ],
   "source": [
    "df_dolar_final.head()"
   ]
  },
  {
   "cell_type": "code",
   "execution_count": 50,
   "id": "a5191dac-b66e-49af-b590-841104618792",
   "metadata": {},
   "outputs": [
    {
     "data": {
      "text/plain": [
       "<Axes: xlabel='date'>"
      ]
     },
     "execution_count": 50,
     "metadata": {},
     "output_type": "execute_result"
    },
    {
     "data": {
      "image/png": "[encoded data removed]",
      "text/plain": [
       "<Figure size 640x480 with 1 Axes>"
      ]
     },
     "metadata": {},
     "output_type": "display_data"
    }
   ],
   "source": [
    "#criando gráfico básico\n",
    "\n",
    "df_dolar_final.plot()"
   ]
  },
  {
   "cell_type": "code",
   "execution_count": 60,
   "id": "51c337c2-0061-496b-b01f-a62541069fa6",
   "metadata": {},
   "outputs": [],
   "source": [
    "import matplotlib.pyplot as plt\n",
    "\n",
    "# mudando esquema de cores\n",
    "\n",
    "cores = plt.cm.Pastel2.colors"
   ]
  },
  {
   "cell_type": "code",
   "execution_count": 67,
   "id": "c5b0c447-2110-4311-b05f-17073727b2f7",
   "metadata": {},
   "outputs": [],
   "source": [
    "# períodos dos presidentes\n",
    "presidentes = {\n",
    "    \"FHC\": (\"1995-01-01\", \"2002-12-31\"),\n",
    "    \"Lula 1\": (\"2003-01-01\", \"2010-12-31\"),\n",
    "    \"Dilma\": (\"2011-01-01\", \"2016-08-31\"),\n",
    "    \"Temer\": (\"2016-09-01\", \"2018-12-31\"),\n",
    "    \"Bolsonaro\": (\"2019-01-01\", \"2022-12-31\"),\n",
    "    \"Lula 2\": (\"2023-01-01\", \"2024-12-20\"),\n",
    "}"
   ]
  },
  {
   "cell_type": "code",
   "execution_count": 510,
   "id": "055faaa5-8927-4c44-83c9-5c7f730789b5",
   "metadata": {},
   "outputs": [
    {
     "data": {
      "image/png": "[encoded data removed]",
      "text/plain": [
       "<Figure size 1400x500 with 1 Axes>"
      ]
     },
     "metadata": {},
     "output_type": "display_data"
    }
   ],
   "source": [
    "from matplotlib.dates import YearLocator\n",
    "\n",
    "\n",
    "fig, ax = plt.subplots(figsize = (14,5))\n",
    "\n",
    "ax.plot(df_dolar_final.index, df_dolar_final['value'], color = 'black')\n",
    "\n",
    "ax.set_title('Cotação do Dólar no Brasil \\n', color = 'black', fontsize = 16, fontweight = 'bold')\n",
    "ax.set_ylabel('Valor Dólar', color = 'black',fontweight = 'bold')\n",
    "\n",
    "ax.tick_params(axis = 'y', length = 0)\n",
    "ax.tick_params(axis = 'x', length = 0)\n",
    "ax.xaxis.set_major_locator(YearLocator(2))\n",
    "\n",
    "ax.tick_params(axis='both', labelsize=10)  # Configuração básica\n",
    "\n",
    "for label in ax.get_xticklabels():\n",
    "    label.set_fontweight('bold')\n",
    "\n",
    "for label in ax.get_yticklabels():\n",
    "    label.set_fontweight('bold')\n",
    "\n",
    "ax.xaxis.set_tick_params(rotation = 45)\n",
    "ax.grid(linestyle = '--', linewidth = 0.5, color = 'black', alpha = 0.3, axis = 'y')\n",
    "\n",
    "for i, presidente in enumerate(presidentes):\n",
    "    ax.axvspan(presidentes[presidente][0], presidentes[presidente][1], color = cores[i], alpha = 0.5, label = presidente)\n",
    "\n",
    "legenda = ax.legend().get_frame()\n",
    "\n",
    "ax.legend(loc='upper right', bbox_to_anchor=(0.18, 1.01))\n",
    "\n",
    "legenda.set_facecolor('white')  # Cor de fundo\n",
    "legenda.set_linewidth(1)  # Largura da borda\n",
    "legenda.set_alpha(1)   # Transparência\n",
    "\n",
    "\n",
    "ax.text(9550,3.2, 'Criação do regime cambial' , color = 'black', fontweight = 'bold', fontsize = 9)\n",
    "ax.text(18200,2.2, 'COVID -19' , color = 'red', fontweight = 'bold', fontsize = 9)\n",
    "\n",
    "#fig.legend()\n",
    "ax.set_frame_on(False)\n",
    "\n",
    "plt.show()"
   ]
  }
 ],
 "metadata": {
  "kernelspec": {
   "display_name": "Python 3 (ipykernel)",
   "language": "python",
   "name": "python3"
  },
  "language_info": {
   "codemirror_mode": {
    "name": "ipython",
    "version": 3
   },
   "file_extension": ".py",
   "mimetype": "text/x-python",
   "name": "python",
   "nbconvert_exporter": "python",
   "pygments_lexer": "ipython3",
   "version": "3.12.3"
  }
 },
 "nbformat": 4,
 "nbformat_minor": 5
}
